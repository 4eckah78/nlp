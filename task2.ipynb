{
 "cells": [
  {
   "attachments": {},
   "cell_type": "markdown",
   "metadata": {},
   "source": [
    "## Контекстно-независимое векторное представление слов \n",
    "\n",
    "1. Используйте тексты из предыдущего задания и обучите на них модель векторного представления слов (опционально можно приводить слова к нормальной форме и удалить стоп-слова). Можно использовать `gensim`.\n",
    "\n",
    "2. Разделите коллекцию текстов на обучающее и тестовое множество. С помощью обученной модели векторного представления отобразите каждый документ в вектор, усреднив все вектора для слов документа. \n",
    "\n",
    "3. Используйте какой-либо алгоритм классификации (например `SVM`) для классификации текстов. Для обучения используйте тестовое множество, для анализа результатов - тестовое.\n",
    "\n",
    "4. Простое усреднение векторов слов обычно не дает хорошего отображения документа в вектор. Придумайте альтернативный способ. Протестируйте его, повторно обучив алгоритм классификации на тех же данных. \n"
   ]
  },
  {
   "cell_type": "code",
   "execution_count": 121,
   "metadata": {},
   "outputs": [],
   "source": [
    "import pymorphy3\n",
    "import numpy as np\n",
    "from nltk.corpus import stopwords"
   ]
  },
  {
   "cell_type": "markdown",
   "metadata": {},
   "source": [
    "1. Используйте тексты из предыдущего задания и обучите на них модель векторного представления слов (опционально можно приводить слова к нормальной форме и удалить стоп-слова). Можно использовать `gensim`."
   ]
  },
  {
   "cell_type": "code",
   "execution_count": 122,
   "metadata": {},
   "outputs": [],
   "source": [
    "import gzip\n",
    "import re\n",
    "\n",
    "from gensim.models import Word2Vec\n",
    "\n",
    "from dataclasses import dataclass\n",
    "from typing import Iterator, List\n",
    "\n",
    "@dataclass\n",
    "class Text:\n",
    "    label: str\n",
    "    title: str\n",
    "    text: str\n",
    "\n",
    "# Чтение файла данных\n",
    "def read_texts(fn: str=\"data/news.txt.gz\") -> Iterator[Text]:\n",
    "    with gzip.open(fn, \"rt\", encoding=\"utf-8\") as f:\n",
    "        for line in f:\n",
    "            yield Text(*line.strip().split(\"\\t\"))\n",
    "                    \n",
    "\n",
    "morph = pymorphy3.MorphAnalyzer()\n",
    "ru_stopwords = set(stopwords.words(\"russian\"))\n",
    "# Разбиение текста на слова                 \n",
    "def tokenize_text(text: str) -> List[str]:\n",
    "    text = text.lower()\n",
    "    words = re.findall(r'\\b\\w+\\b', text.lower())\n",
    "    words = [\n",
    "        morph.parse(word)[0].normal_form for word in words if word not in ru_stopwords\n",
    "    ]\n",
    "    return words"
   ]
  },
  {
   "cell_type": "code",
   "execution_count": 6,
   "metadata": {},
   "outputs": [
    {
     "name": "stdout",
     "output_type": "stream",
     "text": [
      "два, вот, вдруг, был, нибудь, один, его, есть, тогда, всю, а, было, со, быть, или, лучше, эту, эти, разве, все, к, они, этом, ж, чем, даже, еще, были, уж, другой, ли, сам, только, этого, вам, больше, на, при, тоже, моя, совсем, может, ну, ведь, тем, под, кто, ней, куда, можно, три, за, меня, вы, иногда, чтоб, опять, впрочем, перед, никогда, надо, хоть, он, себе, нет, чтобы, от, свою, была, там, она, нельзя, что, уже, теперь, того, и, потом, ни, с, их, какая, конечно, зачем, им, о, без, чуть, между, во, всего, мне, у, мы, в, мой, хорошо, для, когда, много, же, более, будто, как, этой, потому, но, тут, ему, ее, да, ты, не, по, раз, нее, где, почти, если, над, так, будет, про, такой, всех, после, него, то, нас, ничего, ей, том, этот, тот, здесь, себя, чего, бы, сейчас, я, через, какой, об, до, наконец, из, тебя, них, ним, всегда, вас\n"
     ]
    }
   ],
   "source": [
    "print(\", \".join(ru_stopwords))"
   ]
  },
  {
   "cell_type": "code",
   "execution_count": 7,
   "metadata": {},
   "outputs": [],
   "source": [
    "sentences = [tokenize_text(text.text) for text in read_texts()]"
   ]
  },
  {
   "cell_type": "code",
   "execution_count": null,
   "metadata": {},
   "outputs": [
    {
     "data": {
      "text/plain": [
       "[<matplotlib.lines.Line2D at 0x193cf6e6d50>]"
      ]
     },
     "execution_count": 5,
     "metadata": {},
     "output_type": "execute_result"
    },
    {
     "data": {
      "image/png": "[encoded data removed]",
      "text/plain": [
       "<Figure size 640x480 with 1 Axes>"
      ]
     },
     "metadata": {},
     "output_type": "display_data"
    }
   ],
   "source": [
    "import matplotlib.pyplot as plt\n",
    "\n",
    "lens = [len(doc) for doc in sentences]\n",
    "\n",
    "plt.plot(list(range(len(sentences))), lens)"
   ]
  },
  {
   "cell_type": "code",
   "execution_count": 8,
   "metadata": {},
   "outputs": [],
   "source": [
    "# обучаем w2v\n",
    "w2v = Word2Vec(sentences)\n",
    "\n",
    "# сохраняем модель\n",
    "w2v.wv.save_word2vec_format('w2v_vectors.bin')"
   ]
  },
  {
   "cell_type": "code",
   "execution_count": 9,
   "metadata": {},
   "outputs": [
    {
     "data": {
      "text/plain": [
       "[('лондон', 0.8699202537536621),\n",
       " ('франциско', 0.8602492213249207),\n",
       " ('красноярск', 0.8198821544647217),\n",
       " ('анджелесский', 0.8080084919929504),\n",
       " ('прилететь', 0.8079586625099182),\n",
       " ('екатеринбург', 0.8074092268943787),\n",
       " ('амстердам', 0.802464485168457),\n",
       " ('сан', 0.7966002225875854),\n",
       " ('торжественный', 0.7931874990463257),\n",
       " ('токио', 0.7927892208099365)]"
      ]
     },
     "execution_count": 9,
     "metadata": {},
     "output_type": "execute_result"
    }
   ],
   "source": [
    "# пример\n",
    "w2v.wv.most_similar(\"париж\")"
   ]
  },
  {
   "cell_type": "code",
   "execution_count": 10,
   "metadata": {},
   "outputs": [
    {
     "name": "stdout",
     "output_type": "stream",
     "text": [
      "('москва', 0.6037968397140503)\n",
      "('родитель', 0.8632623553276062)\n"
     ]
    }
   ],
   "source": [
    "print(w2v.wv.most_similar(positive=[\"россия\", \"париж\"], negative=['франция'])[0])\n",
    "print(w2v.wv.most_similar(positive=[\"ребёнок\", \"женщина\"], negative=['мужчина'])[0])"
   ]
  },
  {
   "cell_type": "code",
   "execution_count": 11,
   "metadata": {},
   "outputs": [
    {
     "data": {
      "text/plain": [
       "[('вольный', 0.9370482563972473),\n",
       " ('полутяжёлый', 0.9310805201530457),\n",
       " ('серебро', 0.9237045049667358),\n",
       " ('проплыть', 0.9073843359947205),\n",
       " ('кливленд', 0.9070919752120972),\n",
       " ('полулёгкий', 0.9007498621940613),\n",
       " ('завоёвывать', 0.9001500606536865),\n",
       " ('дарья', 0.8988481163978577),\n",
       " ('прыжок', 0.8982142210006714),\n",
       " ('метание', 0.8981910347938538)]"
      ]
     },
     "execution_count": 11,
     "metadata": {},
     "output_type": "execute_result"
    }
   ],
   "source": [
    "w2v.wv.most_similar(\"бег\")"
   ]
  },
  {
   "cell_type": "code",
   "execution_count": 12,
   "metadata": {},
   "outputs": [
    {
     "data": {
      "text/plain": [
       "[('апрель', 0.9849188327789307),\n",
       " ('февраль', 0.9821366667747498),\n",
       " ('ноябрь', 0.9812560677528381),\n",
       " ('октябрь', 0.9798616766929626),\n",
       " ('март', 0.9773834943771362),\n",
       " ('май', 0.9773556590080261),\n",
       " ('июль', 0.9764798283576965),\n",
       " ('август', 0.9761109948158264),\n",
       " ('июнь', 0.9727715849876404),\n",
       " ('декабрь', 0.9718945026397705)]"
      ]
     },
     "execution_count": 12,
     "metadata": {},
     "output_type": "execute_result"
    }
   ],
   "source": [
    "w2v.wv.most_similar(\"сентябрь\")"
   ]
  },
  {
   "cell_type": "markdown",
   "metadata": {},
   "source": [
    "Прикольно :)"
   ]
  },
  {
   "cell_type": "markdown",
   "metadata": {},
   "source": [
    "2. Разделите коллекцию текстов на обучающее и тестовое множество. С помощью обученной модели векторного представления отобразите каждый документ в вектор, усреднив все вектора для слов документа. "
   ]
  },
  {
   "cell_type": "code",
   "execution_count": 54,
   "metadata": {},
   "outputs": [],
   "source": [
    "from sklearn.model_selection import train_test_split\n",
    "\n",
    "labels = [text.label for text in read_texts()]\n",
    "X_train, X_test, y_train, y_test = train_test_split(sentences, labels, test_size=0.2, random_state=42)\n",
    "\n",
    "def from_words_to_vec(documents):\n",
    "    document_vectors = []\n",
    "    for document in documents:\n",
    "        vectors = [\n",
    "            w2v.wv[word] for word in document if word in w2v.wv\n",
    "        ]\n",
    "        document_vectors.append(vectors)\n",
    "\n",
    "    document_vectors_mean = [np.mean(vectors, axis=0) for vectors in document_vectors]\n",
    "    return document_vectors_mean\n",
    "\n",
    "X_train_durty = from_words_to_vec(X_train)\n",
    "X_test_durty = from_words_to_vec(X_test)\n",
    "\n"
   ]
  },
  {
   "cell_type": "markdown",
   "metadata": {},
   "source": [
    "3. Используйте какой-либо алгоритм классификации (например `SVM`) для классификации текстов. Для обучения используйте тестовое множество, для анализа результатов - тестовое."
   ]
  },
  {
   "cell_type": "code",
   "execution_count": 55,
   "metadata": {},
   "outputs": [
    {
     "name": "stdout",
     "output_type": "stream",
     "text": [
      "Accuracy: 0.8015\n"
     ]
    }
   ],
   "source": [
    "from sklearn.svm import SVC\n",
    "from sklearn.metrics import accuracy_score\n",
    "\n",
    "svc= SVC()\n",
    "svc.fit(X_train_durty, y_train)\n",
    "\n",
    "y_pred = svc.predict(X_test_durty)\n",
    "\n",
    "\n",
    "\n",
    "accuracy = accuracy_score(y_test, y_pred)\n",
    "print(\"Accuracy:\", accuracy)"
   ]
  },
  {
   "cell_type": "code",
   "execution_count": 62,
   "metadata": {},
   "outputs": [],
   "source": [
    "def transform_text(text: str) -> list:\n",
    "    normalized_text = tokenize_text(text)\n",
    "    vector = [\n",
    "        w2v.wv[word] for word in normalized_text if word in w2v.wv\n",
    "    ]\n",
    "    return [np.mean(vector, axis=0)]"
   ]
  },
  {
   "cell_type": "code",
   "execution_count": 63,
   "metadata": {},
   "outputs": [
    {
     "data": {
      "text/plain": [
       "{'business',\n",
       " 'culture',\n",
       " 'economics',\n",
       " 'forces',\n",
       " 'life',\n",
       " 'media',\n",
       " 'science',\n",
       " 'sport',\n",
       " 'style',\n",
       " 'travel'}"
      ]
     },
     "execution_count": 63,
     "metadata": {},
     "output_type": "execute_result"
    }
   ],
   "source": [
    "set(labels)"
   ]
  },
  {
   "cell_type": "code",
   "execution_count": 64,
   "metadata": {},
   "outputs": [
    {
     "data": {
      "text/plain": [
       "'life'"
      ]
     },
     "execution_count": 64,
     "metadata": {},
     "output_type": "execute_result"
    }
   ],
   "source": [
    "svc.predict(transform_text(\"Футбольное Динамо забило гол и выиграло\"))[0]"
   ]
  },
  {
   "cell_type": "code",
   "execution_count": 66,
   "metadata": {},
   "outputs": [
    {
     "data": {
      "text/plain": [
       "'sport'"
      ]
     },
     "execution_count": 66,
     "metadata": {},
     "output_type": "execute_result"
    }
   ],
   "source": [
    "svc.predict(transform_text(\"Выборы президента РФ состоятся после 12 марта\"))[0]"
   ]
  },
  {
   "cell_type": "code",
   "execution_count": 67,
   "metadata": {},
   "outputs": [
    {
     "data": {
      "text/plain": [
       "'sport'"
      ]
     },
     "execution_count": 67,
     "metadata": {},
     "output_type": "execute_result"
    }
   ],
   "source": [
    "svc.predict(transform_text(\"Овечкин забил долгожданный гол в пустые ворота\"))[0]"
   ]
  },
  {
   "cell_type": "markdown",
   "metadata": {},
   "source": [
    "4. Простое усреднение векторов слов обычно не дает хорошего отображения документа в вектор. Придумайте альтернативный способ. Протестируйте его, повторно обучив алгоритм классификации на тех же данных. "
   ]
  },
  {
   "cell_type": "markdown",
   "metadata": {},
   "source": [
    "Кластеризуем слова в документах на k класстеров и выкинем самые встречаемые (неинформативные слова)"
   ]
  },
  {
   "cell_type": "code",
   "execution_count": 118,
   "metadata": {},
   "outputs": [],
   "source": [
    "from sklearn.cluster import KMeans\n",
    "from collections import Counter, OrderedDict\n",
    "\n",
    "\n",
    "def cluster_and_average_vectors(list_of_words, k=5, num=1):\n",
    "    words_count = Counter(list_of_words).most_common()\n",
    "\n",
    "    words_count_vectors = [w2v.wv[word] for word, _ in words_count if word in w2v.wv]\n",
    "\n",
    "    if len(words_count_vectors) <= k:\n",
    "        return np.mean(words_count_vectors, axis=0)\n",
    "    \n",
    "    k_means = KMeans(n_clusters=k, n_init=\"auto\", random_state=2)\n",
    "    clusters = k_means.fit_predict(words_count_vectors)\n",
    "\n",
    "    clusters_to_delete = list(OrderedDict.fromkeys(clusters))[:num]\n",
    "\n",
    "\n",
    "    filtered_vectors = []\n",
    "    for i, cluster in enumerate(clusters):\n",
    "        if cluster not in clusters_to_delete:\n",
    "            filtered_vectors.append(words_count_vectors[i])\n",
    "\n",
    "    return np.mean(filtered_vectors, axis=0)\n",
    "\n"
   ]
  },
  {
   "cell_type": "code",
   "execution_count": 119,
   "metadata": {},
   "outputs": [],
   "source": [
    "X_train_cleaned = [cluster_and_average_vectors(document, k=60, num=1) for document in X_train]\n",
    "X_test_cleaned = [cluster_and_average_vectors(document, k=60, num=1) for document in X_test]\n"
   ]
  },
  {
   "attachments": {
    "image.png": {
     "image/png": "[encoded data removed]"
    }
   },
   "cell_type": "markdown",
   "metadata": {},
   "source": [
    "Тут любопытно, вылетала ошибка **n_samples=6 should be >= n_clusters=8.**, я поискал, реально есть документ, где 6 слов\n",
    "\n",
    "![image.png](attachment:image.png)"
   ]
  },
  {
   "cell_type": "code",
   "execution_count": 120,
   "metadata": {},
   "outputs": [
    {
     "name": "stdout",
     "output_type": "stream",
     "text": [
      "Accuracy: 0.7385\n"
     ]
    }
   ],
   "source": [
    "svc= SVC()\n",
    "svc.fit(X_train_cleaned, y_train)\n",
    "\n",
    "y_pred = svc.predict(X_test_cleaned)\n",
    "\n",
    "\n",
    "\n",
    "accuracy = accuracy_score(y_test, y_pred)\n",
    "print(\"Accuracy:\", accuracy)"
   ]
  },
  {
   "cell_type": "markdown",
   "metadata": {},
   "source": [
    "Файнтюнинг"
   ]
  },
  {
   "cell_type": "code",
   "execution_count": 41,
   "metadata": {},
   "outputs": [
    {
     "name": "stdout",
     "output_type": "stream",
     "text": [
      "Accuracy: 0.729\n",
      "Accuracy: 0.754\n",
      "Accuracy: 0.7765\n",
      "Accuracy: 0.789\n",
      "Accuracy: 0.7895\n",
      "Accuracy: 0.7915\n",
      "Accuracy: 0.7925\n"
     ]
    }
   ],
   "source": [
    "history = []\n",
    "K = [3, 5, 8, 12, 15, 20, 30]\n",
    "for k in K:\n",
    "    X_train_cleaned = [cluster_and_average_vectors(document, k=k, num=1) for document in X_train]\n",
    "    # X_test_cleaned = [cluster_and_average_vectors(document, k=5, num=1) for document in X_test]\n",
    "    \n",
    "    svc= SVC()\n",
    "    svc.fit(X_train_cleaned, y_train)\n",
    "    y_pred = svc.predict(X_test_durty)\n",
    "\n",
    "    accuracy = accuracy_score(y_test, y_pred)\n",
    "    print(\"Accuracy:\", accuracy)\n",
    "    history.append([accuracy, k])"
   ]
  },
  {
   "cell_type": "code",
   "execution_count": 42,
   "metadata": {},
   "outputs": [
    {
     "name": "stdout",
     "output_type": "stream",
     "text": [
      "Accuracy: 0.607\n",
      "Accuracy: 0.624\n",
      "Accuracy: 0.6265\n",
      "Accuracy: 0.621\n",
      "Accuracy: 0.609\n",
      "Accuracy: 0.594\n",
      "Accuracy: 0.577\n",
      "Accuracy: 0.5705\n",
      "Accuracy: 0.5645\n"
     ]
    }
   ],
   "source": [
    "history = []\n",
    "K = [3, 5, 8, 10, 12, 15, 20, 25, 30]\n",
    "for k in K:\n",
    "    X_train_cleaned = [cluster_and_average_vectors(document, k=k, num=1) for document in X_train]\n",
    "    X_test_cleaned = [cluster_and_average_vectors(document, k=5, num=1) for document in X_test]\n",
    "    \n",
    "    svc= SVC()\n",
    "    svc.fit(X_train_cleaned, y_train)\n",
    "    y_pred = svc.predict(X_test_cleaned)\n",
    "\n",
    "    accuracy = accuracy_score(y_test, y_pred)\n",
    "    print(\"Accuracy:\", accuracy)\n",
    "    history.append([accuracy, k])"
   ]
  },
  {
   "cell_type": "code",
   "execution_count": 44,
   "metadata": {},
   "outputs": [
    {
     "name": "stdout",
     "output_type": "stream",
     "text": [
      "Accuracy: 0.5645\n",
      "Accuracy: 0.564\n",
      "Accuracy: 0.565\n",
      "Accuracy: 0.5585\n"
     ]
    }
   ],
   "source": [
    "history = []\n",
    "K = [30, 35, 40, 45]\n",
    "for k in K:\n",
    "    X_train_cleaned = [cluster_and_average_vectors(document, k=k, num=1) for document in X_train]\n",
    "    X_test_cleaned = [cluster_and_average_vectors(document, k=5, num=1) for document in X_test]\n",
    "    \n",
    "    svc= SVC()\n",
    "    svc.fit(X_train_cleaned, y_train)\n",
    "    y_pred = svc.predict(X_test_cleaned)\n",
    "\n",
    "    accuracy = accuracy_score(y_test, y_pred)\n",
    "    print(\"Accuracy:\", accuracy)\n",
    "    history.append([accuracy, k])"
   ]
  },
  {
   "cell_type": "code",
   "execution_count": 45,
   "metadata": {},
   "outputs": [
    {
     "name": "stdout",
     "output_type": "stream",
     "text": [
      "Accuracy: 0.7895\n",
      "Accuracy: 0.788\n",
      "Accuracy: 0.7935\n",
      "Accuracy: 0.7945\n"
     ]
    }
   ],
   "source": [
    "history = []\n",
    "K = [30, 35, 40, 45]\n",
    "for k in K:\n",
    "    X_train_cleaned = [cluster_and_average_vectors(document, k=k, num=1) for document in X_train]\n",
    "    # X_test_cleaned = [cluster_and_average_vectors(document, k=5, num=1) for document in X_test]\n",
    "    \n",
    "    svc= SVC()\n",
    "    svc.fit(X_train_cleaned, y_train)\n",
    "    y_pred = svc.predict(X_test_durty)\n",
    "\n",
    "    accuracy = accuracy_score(y_test, y_pred)\n",
    "    print(\"Accuracy:\", accuracy)\n",
    "    history.append([accuracy, k])"
   ]
  },
  {
   "cell_type": "code",
   "execution_count": 47,
   "metadata": {},
   "outputs": [
    {
     "name": "stdout",
     "output_type": "stream",
     "text": [
      "Accuracy: 0.7945\n",
      "Accuracy: 0.7955\n",
      "Accuracy: 0.7955\n",
      "Accuracy: 0.798\n",
      "Accuracy: 0.798\n",
      "Accuracy: 0.796\n"
     ]
    }
   ],
   "source": [
    "history = []\n",
    "K = [45, 50 ,55, 60, 80, 100]\n",
    "for k in K:\n",
    "    X_train_cleaned = [cluster_and_average_vectors(document, k=k, num=2) for document in X_train]\n",
    "    # X_test_cleaned = [cluster_and_average_vectors(document, k=5, num=1) for document in X_test]\n",
    "    \n",
    "    svc= SVC()\n",
    "    svc.fit(X_train_cleaned, y_train)\n",
    "    y_pred = svc.predict(X_test_durty)\n",
    "\n",
    "    accuracy = accuracy_score(y_test, y_pred)\n",
    "    print(\"Accuracy:\", accuracy)\n",
    "    history.append([accuracy, k])"
   ]
  },
  {
   "cell_type": "markdown",
   "metadata": {},
   "source": [
    "Видимо, уже и так хорошо отчистил документы от мусора и если что-то убираю, становится только хуже"
   ]
  }
 ],
 "metadata": {
  "kernelspec": {
   "display_name": "venv_nlp",
   "language": "python",
   "name": "python3"
  },
  "language_info": {
   "codemirror_mode": {
    "name": "ipython",
    "version": 3
   },
   "file_extension": ".py",
   "mimetype": "text/x-python",
   "name": "python",
   "nbconvert_exporter": "python",
   "pygments_lexer": "ipython3",
   "version": "3.11.7"
  },
  "orig_nbformat": 4
 },
 "nbformat": 4,
 "nbformat_minor": 2
}
